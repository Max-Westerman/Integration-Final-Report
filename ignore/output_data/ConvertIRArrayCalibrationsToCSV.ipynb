{
 "cells": [
  {
   "cell_type": "code",
   "execution_count": 4,
   "id": "251d7ff4",
   "metadata": {},
   "outputs": [],
   "source": [
    "# This code converts the IR Array calibration points into a CSV so it can be visualized in LaTeX"
   ]
  },
  {
   "cell_type": "code",
   "execution_count": 5,
   "id": "e7824637",
   "metadata": {},
   "outputs": [],
   "source": [
    "import os\n",
    "import csv\n",
    "import re\n",
    "\n",
    "datapoints = \"\"\"\n",
    "int* onValuesBlue = new int[numSensors]{942, 962, 961, 961, 958, 972, 981};\n",
    "int* onValuesGreen = new int[numSensors]{959, 970, 969, 972, 969, 978, 983};\n",
    "int* onValuesRed = new int[numSensors]{958, 974, 974, 976, 973, 982, 988};\n",
    "int* onValuesYellow = new int[numSensors]{928, 949, 948, 952, 947, 964, 977};\n",
    "int* offValues = new int[numSensors]{1005, 1006, 1007, 1006, 1007, 1008, 1007};\n",
    "\"\"\""
   ]
  },
  {
   "cell_type": "code",
   "execution_count": 6,
   "id": "cb989b0a",
   "metadata": {},
   "outputs": [
    {
     "name": "stdout",
     "output_type": "stream",
     "text": [
      "CSV file 'sensor_calibration_data.csv' has been created successfully in the 'ir_array_calibration' folder.\n"
     ]
    }
   ],
   "source": [
    "# Ensure the output directory exists\n",
    "output_dir = 'ir_array_calibration'\n",
    "os.makedirs(output_dir, exist_ok=True)\n",
    "\n",
    "# Extract sensor data from the string\n",
    "sensor_data = {}\n",
    "matches = re.findall(r'int\\*\\s+(\\w+)\\s+=\\s+new\\s+int\\[numSensors\\]\\{([^}]+)\\};', datapoints, re.DOTALL)\n",
    "for match in matches:\n",
    "    name, data_str = match\n",
    "    data_list = list(map(int, data_str.split(',')))\n",
    "    sensor_data[name] = data_list\n",
    "\n",
    "# Transpose the data to have sensors as rows and colors as columns\n",
    "transposed_data = []\n",
    "num_sensors = len(sensor_data['onValuesBlue'])  # Assuming all lists are of the same length\n",
    "\n",
    "for i in range(num_sensors):\n",
    "    row = [\n",
    "        sensor_data['onValuesBlue'][i], \n",
    "        sensor_data['onValuesGreen'][i], \n",
    "        sensor_data['onValuesRed'][i], \n",
    "        sensor_data['onValuesYellow'][i], \n",
    "        sensor_data['offValues'][i]\n",
    "    ]\n",
    "    transposed_data.append(row)\n",
    "\n",
    "# Create CSV file\n",
    "csv_filename = 'sensor_calibration_data.csv'\n",
    "csv_filepath = os.path.join(output_dir, csv_filename)\n",
    "\n",
    "with open(csv_filepath, mode='w', newline='') as file:\n",
    "    writer = csv.writer(file)\n",
    "    writer.writerow(['Sensor', 'Blue', 'Green', 'Red', 'Yellow', 'Off'])\n",
    "    for i, row in enumerate(transposed_data, start=1):\n",
    "        writer.writerow([i] + row)\n",
    "\n",
    "print(f\"CSV file '{csv_filename}' has been created successfully in the '{output_dir}' folder.\")\n"
   ]
  }
 ],
 "metadata": {
  "kernelspec": {
   "display_name": "Python 3 (ipykernel)",
   "language": "python",
   "name": "python3"
  },
  "language_info": {
   "codemirror_mode": {
    "name": "ipython",
    "version": 3
   },
   "file_extension": ".py",
   "mimetype": "text/x-python",
   "name": "python",
   "nbconvert_exporter": "python",
   "pygments_lexer": "ipython3",
   "version": "3.10.9"
  }
 },
 "nbformat": 4,
 "nbformat_minor": 5
}
