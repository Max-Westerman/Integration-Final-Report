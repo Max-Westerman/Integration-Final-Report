{
 "cells": [
  {
   "cell_type": "code",
   "execution_count": 1,
   "id": "36d7fb9e",
   "metadata": {},
   "outputs": [],
   "source": [
    "# This code converts the motor calibration points into a CSV so it can be visualized in LaTeX"
   ]
  },
  {
   "cell_type": "code",
   "execution_count": 2,
   "id": "7c337354",
   "metadata": {},
   "outputs": [],
   "source": [
    "import os\n",
    "import csv\n",
    "import re"
   ]
  },
  {
   "cell_type": "code",
   "execution_count": 3,
   "id": "8b545f4d",
   "metadata": {},
   "outputs": [],
   "source": [
    "datapoints = \"\"\"\n",
    "std::vector<MotorCalibration> topCalibrationData = {\n",
    "    {0, 25, 5.715},\n",
    "    {6.67, 30, 8.5725},\n",
    "    {20, 40, 14.3933333333333},\n",
    "    {33.33, 50, 19.8966666666667},\n",
    "    {46.67, 60, 24.6591666666667},\n",
    "    {60, 70, 28.6279166666667},\n",
    "    {73.33, 80, 32.86125},\n",
    "    {86.67, 90, 37.2533333333333},\n",
    "  };\n",
    "  std::vector<MotorCalibration> bottomCalibrationData = {\n",
    "    {0, 25, 5.57106666666667},\n",
    "    {6.67, 30, 8.18303333333333},\n",
    "    {20, 40, 13.7244666666667},\n",
    "    {33.33, 50, 19.2616666666667},\n",
    "    {46.67, 60, 22.2779166666667},\n",
    "    {60, 70, 24.8179166666667},\n",
    "    {73.33, 80, 26.8816666666667},\n",
    "    {86.67, 90, 30.6916666666667},\n",
    "  };\n",
    "  std::vector<MotorCalibration> leftCalibrationData = {\n",
    "    {0, 19, 0},\n",
    "    {1.23, 20, 2.4},\n",
    "    {7.41, 25, 9.398},\n",
    "    {13.58, 30, 14.4},\n",
    "    {25.93, 40, 20.16},\n",
    "    {38.27, 50, 27.4},\n",
    "    {50.62, 60, 33.6},\n",
    "    {62.96, 70, 36.18},\n",
    "    {75.31, 80, 41.6},\n",
    "    {87.65, 90, 44.3},\n",
    "    {100, 100, 54.4},\n",
    "  };\n",
    "  std::vector<MotorCalibration> rightCalibrationData = {\n",
    "    {0, 19, 0},\n",
    "    {1.23, 20, 2.4},\n",
    "    {7.41, 25, 9.398},\n",
    "    {13.58, 30, 13.6},\n",
    "    {25.93, 40, 18.36},\n",
    "    {38.27, 50, 24.6},\n",
    "    {50.62, 60, 31.32},\n",
    "    {62.96, 70, 32.18},\n",
    "    {75.31, 80, 38.2},\n",
    "    {87.65, 90, 40.5},\n",
    "    {100, 100, 48.48},\n",
    "  };\n",
    "\"\"\""
   ]
  },
  {
   "cell_type": "code",
   "execution_count": 4,
   "id": "f68af3f6",
   "metadata": {},
   "outputs": [
    {
     "name": "stdout",
     "output_type": "stream",
     "text": [
      "CSV files have been created successfully in the 'motor_calibration' folder.\n"
     ]
    }
   ],
   "source": [
    "\n",
    "# Ensure the output directory exists\n",
    "output_dir = 'motor_calibration'\n",
    "os.makedirs(output_dir, exist_ok=True)\n",
    "\n",
    "# Extract calibration data from the string\n",
    "calibration_data_sets = {}\n",
    "\n",
    "matches = re.findall(r'std::vector<MotorCalibration>\\s+(\\w+)\\s+=\\s+\\{(.*?)\\};', datapoints, re.DOTALL)\n",
    "for match in matches:\n",
    "    name, data_str = match\n",
    "    name = name.replace('CalibrationData', '_calibration_data.csv')\n",
    "    data_tuples = re.findall(r'\\{([^}]+)\\}', data_str)\n",
    "    data_list = []\n",
    "    for data in data_tuples:\n",
    "        data_list.append(tuple(map(float, data.split(','))))\n",
    "    calibration_data_sets[name] = data_list\n",
    "\n",
    "# Function to write calibration data to CSV\n",
    "def write_calibration_data_to_csv(filename, data):\n",
    "    with open(os.path.join(output_dir, filename), mode='w', newline='') as file:\n",
    "        writer = csv.writer(file)\n",
    "        writer.writerow(['speed_percent', 'pwm_percent', 'speed'])\n",
    "        writer.writerows(data)\n",
    "\n",
    "# Write all calibration data to CSV files\n",
    "for filename, data in calibration_data_sets.items():\n",
    "    write_calibration_data_to_csv(filename, data)\n",
    "\n",
    "print(f\"CSV files have been created successfully in the '{output_dir}' folder.\")\n"
   ]
  }
 ],
 "metadata": {
  "kernelspec": {
   "display_name": "Python 3 (ipykernel)",
   "language": "python",
   "name": "python3"
  },
  "language_info": {
   "codemirror_mode": {
    "name": "ipython",
    "version": 3
   },
   "file_extension": ".py",
   "mimetype": "text/x-python",
   "name": "python",
   "nbconvert_exporter": "python",
   "pygments_lexer": "ipython3",
   "version": "3.10.9"
  }
 },
 "nbformat": 4,
 "nbformat_minor": 5
}
